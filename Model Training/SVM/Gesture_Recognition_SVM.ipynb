{
  "nbformat": 4,
  "nbformat_minor": 0,
  "metadata": {
    "colab": {
      "provenance": [],
      "authorship_tag": "ABX9TyOInRFuGO0rlG6+6Poaay06",
      "include_colab_link": true
    },
    "kernelspec": {
      "name": "python3",
      "display_name": "Python 3"
    },
    "language_info": {
      "name": "python"
    }
  },
  "cells": [
    {
      "cell_type": "markdown",
      "metadata": {
        "id": "view-in-github",
        "colab_type": "text"
      },
      "source": [
        "<a href=\"https://colab.research.google.com/github/himnishlalchandani/Gesture-Recognition-Atmos-24/blob/main/Model%20Training/SVM/Gesture_Recognition_SVM.ipynb\" target=\"_parent\"><img src=\"https://colab.research.google.com/assets/colab-badge.svg\" alt=\"Open In Colab\"/></a>"
      ]
    },
    {
      "cell_type": "code",
      "execution_count": 16,
      "metadata": {
        "colab": {
          "base_uri": "https://localhost:8080/"
        },
        "id": "g0UwhgBQErca",
        "outputId": "1488ef9d-3a3f-42d3-c4df-6772ea29a87a"
      },
      "outputs": [
        {
          "output_type": "stream",
          "name": "stdout",
          "text": [
            "[[111   1]\n",
            " [  3 100]]\n",
            "              precision    recall  f1-score   support\n",
            "\n",
            "           0       0.97      0.99      0.98       112\n",
            "           1       0.99      0.97      0.98       103\n",
            "\n",
            "    accuracy                           0.98       215\n",
            "   macro avg       0.98      0.98      0.98       215\n",
            "weighted avg       0.98      0.98      0.98       215\n",
            "\n"
          ]
        }
      ],
      "source": [
        "import pandas as pd\n",
        "import numpy as np\n",
        "from sklearn import svm\n",
        "from sklearn.model_selection import train_test_split\n",
        "from sklearn.metrics import classification_report, confusion_matrix\n",
        "\n",
        "\n",
        "walking_df = pd.read_csv('/content/walking.csv')\n",
        "jogging_df = pd.read_csv('/content/jogging.csv')\n",
        "walking_df = walking_df.drop(walking_df.columns[0], axis=1)\n",
        "jogging_df = jogging_df.drop(jogging_df.columns[0], axis=1)\n",
        "data = pd.concat([walking_df, jogging_df], ignore_index=True)\n",
        "\n",
        "X = data[['Ax', 'Ay', 'Az', 'Gx', 'Gy', 'Gz']]\n",
        "y = data['label']\n",
        "\n",
        "X_train, X_test, y_train, y_test = train_test_split(X, y, test_size=0.2, random_state=42)\n",
        "\n",
        "model = svm.SVC(kernel='linear')\n",
        "\n",
        "model.fit(X_train, y_train)\n",
        "\n",
        "y_pred = model.predict(X_test)\n",
        "\n",
        "print(confusion_matrix(y_test, y_pred))\n",
        "print(classification_report(y_test, y_pred))\n",
        "\n",
        "# test_df_1 = pd.read_csv('test_data_1.csv')\n",
        "# test_df_2 = pd.read_csv('test_data_2.csv')\n",
        "# test_df_3 = pd.read_csv('test_data_3.csv')\n",
        "\n",
        "# X_test_df1 = test_df_1[['Ax', 'Ay', 'Az', 'Gx', 'Gy', 'Gz']]\n",
        "# predictions_df1 = model.predict(X_test_df1)\n",
        "# print(predictions_df1)"
      ]
    },
    {
      "cell_type": "code",
      "source": [
        "import numpy as np\n",
        "\n",
        "weights = model.coef_[0]\n",
        "intercept = model.intercept_[0]\n",
        "\n",
        "np.save('svm_weights.npy', weights)\n",
        "np.save('svm_intercept.npy', np.array([intercept]))"
      ],
      "metadata": {
        "id": "oq3212nIHIom"
      },
      "execution_count": 23,
      "outputs": []
    },
    {
      "cell_type": "code",
      "source": [
        "weights = np.load('svm_weights.npy')\n",
        "intercept = np.load('svm_intercept.npy', allow_pickle=True)\n",
        "\n",
        "print(\"float weights[] = {\", ', '.join(map(str, weights)), \"};\")\n",
        "print(\"float intercept = \", intercept.item(), \";\")"
      ],
      "metadata": {
        "colab": {
          "base_uri": "https://localhost:8080/"
        },
        "id": "zL5OzqIKH5Pa",
        "outputId": "9c1a07bb-3f4e-4a02-995c-4670b855c2f1"
      },
      "execution_count": 24,
      "outputs": [
        {
          "output_type": "stream",
          "name": "stdout",
          "text": [
            "float weights[] = { 0.5190259938983779, -0.6734625681675306, -0.35391766885335985, -0.8417342657728066, 0.21518534317613736, -0.2222962189137609 };\n",
            "float intercept =  3.571519649657513 ;\n"
          ]
        }
      ]
    }
  ]
}